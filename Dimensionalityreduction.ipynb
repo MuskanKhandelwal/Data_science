{
 "cells": [
  {
   "attachments": {},
   "cell_type": "markdown",
   "metadata": {},
   "source": [
    "**Principal component analysis**"
   ]
  },
  {
   "cell_type": "code",
   "execution_count": 1,
   "metadata": {},
   "outputs": [],
   "source": [
    "from sklearn.decomposition import PCA\n",
    "import numpy as np"
   ]
  },
  {
   "cell_type": "code",
   "execution_count": 3,
   "metadata": {},
   "outputs": [],
   "source": [
    "# Create a sample dataset\n",
    "X = np.array([[1, 2, 3], [4, 5, 6], [7, 8, 9], [10, 11, 12]])\n",
    "\n",
    "# Create an instance of PCA with the desired number of components\n",
    "n_components = 2\n",
    "pca = PCA(n_components=n_components)\n"
   ]
  },
  {
   "cell_type": "code",
   "execution_count": 4,
   "metadata": {},
   "outputs": [],
   "source": [
    "# Fit the PCA model to the data\n",
    "pca.fit(X)\n",
    "\n",
    "# Get the principal components\n",
    "principal_components = pca.components_\n"
   ]
  },
  {
   "cell_type": "code",
   "execution_count": 5,
   "metadata": {},
   "outputs": [],
   "source": [
    "# Get the explained variance ratio\n",
    "explained_variance_ratio = pca.explained_variance_ratio_\n",
    "\n",
    "# Transform the data to the lower-dimensional space\n",
    "X_transformed = pca.transform(X)\n"
   ]
  },
  {
   "cell_type": "code",
   "execution_count": 6,
   "metadata": {},
   "outputs": [
    {
     "name": "stdout",
     "output_type": "stream",
     "text": [
      "Principal Components:\n",
      "[[ 0.57735027  0.57735027  0.57735027]\n",
      " [ 0.         -0.70710678  0.70710678]]\n",
      "Explained Variance Ratio:\n",
      "[1. 0.]\n",
      "Transformed Data:\n",
      "[[-7.79422863e+00 -1.77635684e-15]\n",
      " [-2.59807621e+00 -4.44089210e-16]\n",
      " [ 2.59807621e+00  4.44089210e-16]\n",
      " [ 7.79422863e+00  1.77635684e-15]]\n"
     ]
    }
   ],
   "source": [
    "\n",
    "print(\"Principal Components:\")\n",
    "print(principal_components)\n",
    "\n",
    "print(\"Explained Variance Ratio:\")\n",
    "print(explained_variance_ratio)\n",
    "\n",
    "print(\"Transformed Data:\")\n",
    "print(X_transformed)"
   ]
  }
 ],
 "metadata": {
  "kernelspec": {
   "display_name": "Python 3",
   "language": "python",
   "name": "python3"
  },
  "language_info": {
   "codemirror_mode": {
    "name": "ipython",
    "version": 3
   },
   "file_extension": ".py",
   "mimetype": "text/x-python",
   "name": "python",
   "nbconvert_exporter": "python",
   "pygments_lexer": "ipython3",
   "version": "3.7.0"
  },
  "orig_nbformat": 4
 },
 "nbformat": 4,
 "nbformat_minor": 2
}
